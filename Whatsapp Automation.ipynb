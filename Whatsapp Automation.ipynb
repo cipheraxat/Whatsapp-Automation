{
 "cells": [
  {
   "cell_type": "code",
   "execution_count": 1,
   "metadata": {},
   "outputs": [],
   "source": [
    "from selenium import webdriver"
   ]
  },
  {
   "cell_type": "code",
   "execution_count": 2,
   "metadata": {},
   "outputs": [],
   "source": [
    "browser = webdriver.Chrome('/usr/bin/chromedriver')#directory of the webdriver"
   ]
  },
  {
   "cell_type": "code",
   "execution_count": 3,
   "metadata": {},
   "outputs": [],
   "source": [
    "browser.get('https://twitter.com/home')#given target website"
   ]
  },
  {
   "cell_type": "markdown",
   "metadata": {},
   "source": [
    "## WhatsApp Automation"
   ]
  },
  {
   "cell_type": "code",
   "execution_count": 45,
   "metadata": {},
   "outputs": [],
   "source": [
    "#importing all the necessary libaries\n",
    "from selenium import webdriver\n",
    "from selenium.webdriver.support import expected_conditions as ec\n",
    "from selenium.webdriver.support.ui import WebDriverWait\n",
    "from selenium.webdriver.common.keys import Keys\n",
    "from selenium.webdriver.common.by import By\n",
    "import time\n",
    "\n",
    "browser = webdriver.Chrome('/usr/bin/chromedriver')\n",
    "browser.get('https://web.whatsapp.com/')\n",
    "wait = WebDriverWait(browser, 600)\n",
    "\n",
    "target = '\"Rohan mathur\"' #target user\n",
    "string = \"Message by python!\" #target msg\n",
    "x_arg = ' //span[contains(@title, ' + target +')]'\n",
    "target = wait.until(ec.presence_of_element_located((By.XPATH, x_arg)))\n",
    "target.click()"
   ]
  },
  {
   "cell_type": "code",
   "execution_count": 46,
   "metadata": {},
   "outputs": [],
   "source": [
    "input_box = browser.find_element_by_class_name('_1Plpp')\n",
    "\n",
    "for i in range(100):#loops runs for 100 times\n",
    "    input_box.send_keys(string + Keys.ENTER)"
   ]
  },
  {
   "cell_type": "markdown",
   "metadata": {},
   "source": [
    "## Sending Images"
   ]
  },
  {
   "cell_type": "code",
   "execution_count": null,
   "metadata": {},
   "outputs": [],
   "source": [
    "file_path = \"/home/akshat/Downloads/akshat.jpg\"#file path"
   ]
  },
  {
   "cell_type": "code",
   "execution_count": 21,
   "metadata": {},
   "outputs": [],
   "source": [
    "from time import sleep#sending image to whatsapp\n",
    "attachment_section = browser.find_element_by_xpath('//div[@title = \"Attach\"]')\n",
    "attachment_section.click()\n",
    "\n",
    "image_box = browser.find_element_by_xpath('//input[@accept=\"image/*,video/mp4,video/3gpp,video/quicktime\"]')\n",
    "image_box.send_keys(file_path)\n",
    "\n",
    "sleep(3)\n",
    "\n",
    "send_button = browser.find_element_by_xpath('//span[@data-icon=\"send-light\"]')\n",
    "send_button.click()"
   ]
  },
  {
   "cell_type": "markdown",
   "metadata": {},
   "source": [
    "## Multiple Messages to multiple users"
   ]
  },
  {
   "cell_type": "code",
   "execution_count": null,
   "metadata": {},
   "outputs": [],
   "source": [
    "from selenium import webdriver\n",
    "from selenium.webdriver.support import expected_conditions as ec\n",
    "from selenium.webdriver.support.ui import WebDriverWait\n",
    "from selenium.webdriver.common.keys import Keys\n",
    "from selenium.webdriver.common.by import By\n",
    "from selenium.common.exceptions import NoSuchElementException\n",
    "import time\n",
    "\n",
    "browser = webdriver.Chrome('/usr/bin/chromedriver')\n",
    "browser.get('https://web.whatsapp.com/')\n",
    "wait = WebDriverWait(browser, 600)\n",
    "\n",
    "\n",
    "user_name_list = ['\"Contact 1\"','\"Contact 2\"','\"Contact 3\"'] #target contacts\n",
    "\n",
    "for user_name in user_name_list:\n",
    "    string = \"Good Morning, Hope you are doing well! Sent by bot made by Akshat\" #target msg\n",
    "    x_arg = ' //span[contains(@title, ' + user_name +')]'\n",
    "    user_name = wait.until(ec.presence_of_element_located((By.XPATH, x_arg)))\n",
    "    user_name.click()\n",
    "    input_box = browser.find_element_by_class_name('_1Plpp')\n",
    "\n",
    "    for i in range(1):#loops runs for 1 times\n",
    "        input_box.send_keys(string + Keys.ENTER)"
   ]
  },
  {
   "cell_type": "markdown",
   "metadata": {},
   "source": [
    "Thanks for checking out the code.\n",
    "Ps. Use it for educational purpose not for taking revenge."
   ]
  },
  {
   "cell_type": "code",
   "execution_count": null,
   "metadata": {},
   "outputs": [],
   "source": []
  }
 ],
 "metadata": {
  "kernelspec": {
   "display_name": "Python 3",
   "language": "python",
   "name": "python3"
  },
  "language_info": {
   "codemirror_mode": {
    "name": "ipython",
    "version": 3
   },
   "file_extension": ".py",
   "mimetype": "text/x-python",
   "name": "python",
   "nbconvert_exporter": "python",
   "pygments_lexer": "ipython3",
   "version": "3.7.7"
  }
 },
 "nbformat": 4,
 "nbformat_minor": 4
}
